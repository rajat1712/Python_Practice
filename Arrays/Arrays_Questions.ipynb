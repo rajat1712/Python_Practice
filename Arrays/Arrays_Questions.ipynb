{
 "cells": [
  {
   "cell_type": "markdown",
   "metadata": {},
   "source": [
    "Lecture-8 Arrays"
   ]
  },
  {
   "cell_type": "code",
   "execution_count": 3,
   "metadata": {},
   "outputs": [
    {
     "name": "stdout",
     "output_type": "stream",
     "text": [
      "<class 'int'>\n",
      "[1, 2, 3, 4]\n"
     ]
    }
   ],
   "source": [
    "# to create arrays\n",
    "arr=[1,2,3]\n",
    "print(type(arr[0]))\n",
    "arr.append(4)\n",
    "print(arr)"
   ]
  },
  {
   "cell_type": "code",
   "execution_count": 6,
   "metadata": {},
   "outputs": [
    {
     "name": "stdout",
     "output_type": "stream",
     "text": [
      "5\n",
      "1\n",
      "2\n",
      "3\n",
      "4\n",
      "5\n",
      "[1, 2, 3, 4, 5]\n"
     ]
    }
   ],
   "source": [
    "n=int(input())\n",
    "arr=[]\n",
    "for i in range(0,n):\n",
    "    value=int(input())\n",
    "    arr.append(value)\n",
    "print(arr)"
   ]
  },
  {
   "cell_type": "code",
   "execution_count": 7,
   "metadata": {},
   "outputs": [
    {
     "name": "stdout",
     "output_type": "stream",
     "text": [
      "5\n",
      "1\n",
      "2\n",
      "3\n",
      "4\n",
      "5\n",
      "15\n"
     ]
    }
   ],
   "source": [
    "def findSum(arr):\n",
    "    sum=0\n",
    "    for i in range(len(arr)):\n",
    "        sum=sum+arr[i]\n",
    "    return sum\n",
    "\n",
    "\n",
    "n=int(input())\n",
    "arr=[]\n",
    "for i in range(0,n):\n",
    "    value=int(input())\n",
    "    arr.append(value)\n",
    "ans=findSum(arr)\n",
    "print(ans)"
   ]
  },
  {
   "cell_type": "code",
   "execution_count": 10,
   "metadata": {},
   "outputs": [
    {
     "name": "stdout",
     "output_type": "stream",
     "text": [
      "5\n",
      "56 \n",
      "56\n",
      "7\n",
      "54\n",
      "67\n",
      "Enter value to be searched: \n",
      "100\n",
      "-1\n"
     ]
    }
   ],
   "source": [
    "def linearSearch(arr,val):\n",
    "    index=-1\n",
    "    for i in range(len(arr)):\n",
    "        if(arr[i]==val):\n",
    "            index=i\n",
    "            break\n",
    "    return index\n",
    "\n",
    "\n",
    "n=int(input())\n",
    "arr=[]\n",
    "for i in range(0,n):\n",
    "    value=int(input())\n",
    "    arr.append(value)\n",
    "print(\"Enter value to be searched: \")\n",
    "val=int(input())\n",
    "ans=linearSearch(arr,val)\n",
    "print(ans)"
   ]
  },
  {
   "cell_type": "code",
   "execution_count": 17,
   "metadata": {},
   "outputs": [
    {
     "name": "stdout",
     "output_type": "stream",
     "text": [
      "9\n",
      "[1, 3, 5, 7, 9, 8, 6, 4, 2]\n"
     ]
    }
   ],
   "source": [
    "n=int(input())\n",
    "arr=[]\n",
    "initial=1\n",
    "for i in range(0,int(n/2)):\n",
    "    arr.append(initial)\n",
    "    initial=initial+2\n",
    "arr.append(n)\n",
    "length=len(arr)\n",
    "element=1\n",
    "if(arr[length-1]%2==0):\n",
    "    element=arr[length-1]-2\n",
    "else:\n",
    "    element=arr[length-1]-1\n",
    "remaining=n-len(arr)\n",
    "for j in range(0,remaining):\n",
    "    arr.append(element)\n",
    "    element=element-2\n",
    "print(arr)"
   ]
  },
  {
   "cell_type": "markdown",
   "metadata": {},
   "source": [
    "4\n",
    "5\n",
    "6### swap alternate\n",
    "n=int(input())\n",
    "arr=[]\n",
    "for i in range(0,n):\n",
    "    value=int(input())\n",
    "    arr.append(value)\n",
    "if(len(arr)%2!=0):\n",
    "    length=len(arr)-2\n",
    "else:\n",
    "    length=len(arr)\n",
    "for i in range(0,length,2):\n",
    "    value=arr[i]\n",
    "    arr[i]=arr[i+1]\n",
    "    arr[i+1]=value\n",
    "print(arr)"
   ]
  },
  {
   "cell_type": "code",
   "execution_count": 35,
   "metadata": {},
   "outputs": [
    {
     "name": "stdout",
     "output_type": "stream",
     "text": [
      "6\n",
      "1\n",
      "2\n",
      "3\n",
      "4\n",
      "5\n",
      "6\n",
      "[2, 1, 4, 3, 6, 5]\n"
     ]
    }
   ],
   "source": [
    "# swap alternate \n",
    "n=int(input()) \n",
    "arr=[] \n",
    "for i in range(0,n): \n",
    "    value=int(input()) \n",
    "    arr.append(value) \n",
    "if(len(arr)%2!=0): \n",
    "    length=len(arr)-1\n",
    "else: length=len(arr) \n",
    "for i in range(0,length,2): \n",
    "    value=arr[i] \n",
    "    arr[i]=arr[i+1] \n",
    "    arr[i+1]=value \n",
    "print(arr)"
   ]
  },
  {
   "cell_type": "code",
   "execution_count": 38,
   "metadata": {},
   "outputs": [
    {
     "name": "stdout",
     "output_type": "stream",
     "text": [
      "5\n",
      "2\n",
      "4\n",
      "7\n",
      "2\n",
      "7\n",
      "4\n"
     ]
    }
   ],
   "source": [
    "def findUnique(arr):\n",
    "    res=arr[0]\n",
    "    for i in range(1,len(arr)):\n",
    "        res=res^arr[i]\n",
    "    return res\n",
    "\n",
    "n=int(input())\n",
    "arr=[]\n",
    "for i in range(0,n):\n",
    "    value=int(input())\n",
    "    arr.append(value)\n",
    "ans=findUnique(arr)\n",
    "print(ans)"
   ]
  },
  {
   "cell_type": "code",
   "execution_count": 45,
   "metadata": {},
   "outputs": [
    {
     "name": "stdout",
     "output_type": "stream",
     "text": [
      "5\n",
      "1\n",
      "2\n",
      "1\n",
      "2\n",
      "3\n",
      "1\n"
     ]
    }
   ],
   "source": [
    "def findDuplicate(arr):\n",
    "    finalAns=-1\n",
    "    for i in range(0,len(arr)):\n",
    "        element=arr[i]\n",
    "        for j in range(i+1,len(arr)):\n",
    "            if(arr[j]==element):\n",
    "                finalAns=element\n",
    "        if(finalAns!=-1):\n",
    "            break\n",
    "    return finalAns\n",
    "                \n",
    "n=int(input())\n",
    "arr=[]\n",
    "for i in range(0,n):\n",
    "    value=int(input())\n",
    "    arr.append(value)\n",
    "ans=findDuplicate(arr)\n",
    "print(ans)"
   ]
  },
  {
   "cell_type": "code",
   "execution_count": 46,
   "metadata": {},
   "outputs": [
    {
     "name": "stdout",
     "output_type": "stream",
     "text": [
      "6\n",
      "2\n",
      "6\n",
      "8\n",
      "5\n",
      "4\n",
      "3\n",
      "First Array is:  [2, 6, 8, 5, 4, 3]\n",
      "4\n",
      "2\n",
      "3\n",
      "4\n",
      "7\n",
      "Second Array is:  [2, 3, 4, 7]\n",
      "[2, 4, 3]\n"
     ]
    }
   ],
   "source": [
    "def arrayIntersection(arr1,arr2):\n",
    "    arr3=[]\n",
    "    for i in range(len(arr1)):\n",
    "        element=arr1[i]\n",
    "        for j in range(len(arr2)):\n",
    "            if(element==arr2[j]):\n",
    "                arr3.append(arr1[i])\n",
    "    return arr3\n",
    "\n",
    "\n",
    "n1=int(input())\n",
    "arr1=[]\n",
    "for i in range(0,n1):\n",
    "    value1=int(input())\n",
    "    arr1.append(value1)\n",
    "print(\"First Array is: \",arr1)\n",
    "n2=int(input())\n",
    "arr2=[]\n",
    "for j in range(0,n2):\n",
    "    value2=int(input())\n",
    "    arr2.append(value2)\n",
    "print(\"Second Array is: \",arr2)\n",
    "result=arrayIntersection(arr1,arr2)\n",
    "print(result)"
   ]
  },
  {
   "cell_type": "code",
   "execution_count": 51,
   "metadata": {},
   "outputs": [
    {
     "name": "stdout",
     "output_type": "stream",
     "text": [
      "5\n",
      "0\n",
      "1\n",
      "0\n",
      "1\n",
      "0\n",
      "[0, 0, 0, 1, 1]\n"
     ]
    }
   ],
   "source": [
    "def sort01(arr):\n",
    "    count0=0\n",
    "    count1=1\n",
    "    arr1=[]\n",
    "    for i in range(len(arr)):\n",
    "        if(arr[i]==0):\n",
    "            count0=count0+1\n",
    "        else:\n",
    "            count1=count1+1\n",
    "    for j in range(0,count0):\n",
    "        arr1.append(0)\n",
    "    for k in range(0,count1-1):\n",
    "        arr1.append(1)\n",
    "    return arr1\n",
    "        \n",
    "        \n",
    "\n",
    "n=int(input())\n",
    "arr=[]\n",
    "for i in range(0,n):\n",
    "    value=int(input())\n",
    "    arr.append(value)\n",
    "result=sort01(arr)\n",
    "print(result)"
   ]
  },
  {
   "cell_type": "markdown",
   "metadata": {},
   "source": [
    "Lecture-9 Searching and Sorting"
   ]
  },
  {
   "cell_type": "code",
   "execution_count": 3,
   "metadata": {},
   "outputs": [
    {
     "name": "stdout",
     "output_type": "stream",
     "text": [
      "5\n",
      "1\n",
      "2\n",
      "3\n",
      "4\n",
      "5\n",
      "4\n",
      "3\n"
     ]
    }
   ],
   "source": [
    "# Binary Search\n",
    "def binarySearch(arr,x,start,end):\n",
    "    middle=int((start+end)/2)\n",
    "    if(start > end):\n",
    "        return -1\n",
    "    if(arr[middle]==x):\n",
    "        return middle\n",
    "    elif(arr[middle] > x):\n",
    "        return binarySearch(arr,x,start,middle-1)\n",
    "    else:\n",
    "        return binarySearch(arr,x,start+1,end)\n",
    "    \n",
    "\n",
    "n=int(input())\n",
    "arr=[]\n",
    "for i in range(0,n):\n",
    "    value=int(input())\n",
    "    arr.append(value)\n",
    "x=int(input())\n",
    "start=0\n",
    "end=n-1\n",
    "ans=binarySearch(arr,x,start,end)\n",
    "print(ans)"
   ]
  },
  {
   "cell_type": "code",
   "execution_count": 6,
   "metadata": {},
   "outputs": [
    {
     "name": "stdout",
     "output_type": "stream",
     "text": [
      "5\n",
      "4\n",
      "3\n",
      "1\n",
      "2\n",
      "6\n",
      "Sorted Array using selection sort:  [1, 2, 3, 4, 6]\n"
     ]
    }
   ],
   "source": [
    "def selection_sort(arr,n):\n",
    "    for i in range(0,n-1):\n",
    "        min=arr[i]\n",
    "        minIndex=i\n",
    "        for j in range(i+1,n):\n",
    "            if(arr[j] < min):\n",
    "                min=arr[j]\n",
    "                minIndex=j\n",
    "        temp=arr[i]\n",
    "        arr[i]=arr[minIndex]\n",
    "        arr[minIndex]=temp\n",
    "    return arr\n",
    "\n",
    "n=int(input())\n",
    "arr=[]\n",
    "for i in range(0,n):\n",
    "    value=int(input())\n",
    "    arr.append(value)\n",
    "ans=selection_sort(arr,n)\n",
    "print(\"Sorted Array using selection sort: \",ans)"
   ]
  },
  {
   "cell_type": "code",
   "execution_count": 9,
   "metadata": {},
   "outputs": [
    {
     "name": "stdout",
     "output_type": "stream",
     "text": [
      "5\n",
      "5\n",
      "2\n",
      "3\n",
      "4\n",
      "1\n",
      "[1, 2, 3, 4, 5]\n"
     ]
    }
   ],
   "source": [
    "# bubble sort\n",
    "def bubbleSort(arr,n):\n",
    "    for i in range(0,n):\n",
    "        for j in range(0,n-1-i):\n",
    "            if(arr[j] > arr[j+1]):\n",
    "                temp=arr[j]\n",
    "                arr[j]=arr[j+1]\n",
    "                arr[j+1]=temp\n",
    "    return arr\n",
    "\n",
    "n=int(input())\n",
    "arr=[]\n",
    "for i in range(0,n):\n",
    "    value=int(input())\n",
    "    arr.append(value)\n",
    "ans=bubbleSort(arr,n)\n",
    "print(ans)"
   ]
  },
  {
   "cell_type": "code",
   "execution_count": 14,
   "metadata": {},
   "outputs": [
    {
     "name": "stdout",
     "output_type": "stream",
     "text": [
      "5\n",
      "5\n",
      "3\n",
      "2\n",
      "4\n",
      "1\n",
      "[1, 2, 3, 4, 5]\n"
     ]
    }
   ],
   "source": [
    "# insertion sort\n",
    "def insertionSort(arr,n):\n",
    "    for i in range(1,n):\n",
    "        current=arr[i]\n",
    "        j=i-1\n",
    "        while(j>=0):\n",
    "            if(current < arr[j]):\n",
    "                arr[j+1]=arr[j]\n",
    "            else:\n",
    "                break\n",
    "            j=j-1\n",
    "        arr[j+1]=current\n",
    "    return arr\n",
    "\n",
    "n=int(input())\n",
    "arr=[]\n",
    "for i in range(0,n):\n",
    "    value=int(input())\n",
    "    arr.append(value)\n",
    "ans=insertionSort(arr,n)\n",
    "print(ans)"
   ]
  },
  {
   "cell_type": "code",
   "execution_count": 20,
   "metadata": {},
   "outputs": [
    {
     "name": "stdout",
     "output_type": "stream",
     "text": [
      "Enter size1: \n",
      "5\n",
      "Enter size2: \n",
      "5\n",
      "Enter first array elements:\n",
      "1\n",
      "2\n",
      "3\n",
      "4\n",
      "5\n",
      "Enter second array elements:\n",
      "7\n",
      "8\n",
      "9\n",
      "10\n",
      "11\n",
      "[1, 2, 3, 4, 5, 7, 8, 9, 10, 11]\n"
     ]
    }
   ],
   "source": [
    "# merge two sorted arrays\n",
    "def mergeArrays(arr1,n1,arr2,n2):\n",
    "    i=0\n",
    "    j=0\n",
    "    k=0\n",
    "    result=[]\n",
    "    while(i<n1 and j<n2):\n",
    "        if(arr1[i] < arr2[j]):\n",
    "            result.append(arr1[i])\n",
    "            i+=1\n",
    "            k+=1\n",
    "        else:\n",
    "            result.append(arr2[j])\n",
    "            j+=1\n",
    "            k+=1\n",
    "    while(i<n1):\n",
    "        result.append(arr1[i])\n",
    "        i+=1\n",
    "        k+=1\n",
    "    while(j<n2):\n",
    "        result.append(arr2[j])\n",
    "        j+=1\n",
    "        k+=1\n",
    "    return result\n",
    "\n",
    "print(\"Enter size1: \")\n",
    "n1=int(input())\n",
    "print(\"Enter size2: \")\n",
    "n2=int(input())\n",
    "arr1=[]\n",
    "arr2=[]\n",
    "print(\"Enter first array elements:\")\n",
    "for i in range(0,n1):\n",
    "    value1=int(input())\n",
    "    arr1.append(value1)\n",
    "print(\"Enter second array elements:\")\n",
    "for i in range(0,n2):\n",
    "    value2=int(input())\n",
    "    arr2.append(value2)\n",
    "ans=mergeArrays(arr1,n1,arr2,n2)\n",
    "print(ans)"
   ]
  },
  {
   "cell_type": "code",
   "execution_count": 33,
   "metadata": {},
   "outputs": [
    {
     "name": "stdout",
     "output_type": "stream",
     "text": [
      "1 0 3 0 4 0\n",
      "[1, 3, 4, 0, 0, 0]\n"
     ]
    }
   ],
   "source": [
    "def sort01(arr):\n",
    "    result=[]\n",
    "    count0=0\n",
    "    for i in range(len(arr)):\n",
    "        if(arr[i]==0):\n",
    "            count0+=1\n",
    "        else:\n",
    "            result.append(arr[i])\n",
    "    for j in range(count0):\n",
    "        result.append(0)\n",
    "    return result\n",
    "        \n",
    "    \n",
    "    \n",
    "arr=[int(item) for item in input().strip().split(' ')]\n",
    "ans=sort01(arr)\n",
    "print(ans)"
   ]
  },
  {
   "cell_type": "code",
   "execution_count": null,
   "metadata": {},
   "outputs": [],
   "source": []
  },
  {
   "cell_type": "code",
   "execution_count": 36,
   "metadata": {},
   "outputs": [
    {
     "name": "stdout",
     "output_type": "stream",
     "text": [
      "1 2 3 4 5 6 7\n",
      "2\n",
      "[3, 4, 5, 6, 7, 1, 2]\n"
     ]
    }
   ],
   "source": [
    "# rotate array\n",
    "def rotateArray(arr,index):\n",
    "    n=len(arr)\n",
    "    result=[]\n",
    "    if(index==0):\n",
    "        return result\n",
    "    for i in range(index,n):\n",
    "        result.append(arr[i])\n",
    "    for j in range(0,index):\n",
    "        result.append(arr[j])\n",
    "    return result\n",
    "    \n",
    "\n",
    "arr=[int(item) for item in input().strip().split(' ')]\n",
    "index=int(input())\n",
    "ans=rotateArray(arr,index)\n",
    "print(ans)"
   ]
  },
  {
   "cell_type": "code",
   "execution_count": 41,
   "metadata": {},
   "outputs": [
    {
     "name": "stdout",
     "output_type": "stream",
     "text": [
      "7 5 9 \n",
      "759\n"
     ]
    }
   ],
   "source": [
    "def convertArrayToNumber(arr,length):\n",
    "    initialAnswer=0\n",
    "    k=0\n",
    "    for i in range(length,0,-1):\n",
    "        currentAnswer=pow(10,i-1)\n",
    "        initialAnswer=initialAnswer+currentAnswer*arr[k]\n",
    "        k+=1\n",
    "    return initialAnswer\n",
    "        \n",
    "arr=[int(item) for item in input().strip().split(' ')]\n",
    "length=len(arr)\n",
    "answer=convertArrayToNumber(arr,length)\n",
    "print(answer)"
   ]
  },
  {
   "cell_type": "code",
   "execution_count": 45,
   "metadata": {},
   "outputs": [
    {
     "name": "stdout",
     "output_type": "stream",
     "text": [
      "641\n",
      "[6, 4, 1]\n"
     ]
    }
   ],
   "source": [
    "def convertNumberToArray(number):\n",
    "    result=[]\n",
    "    while(number>0):\n",
    "        temp=int(number%10)\n",
    "        result.append(temp)\n",
    "        number=int(number/10)\n",
    "    result.reverse()\n",
    "    return result\n",
    "\n",
    "ans=int(input())\n",
    "finalAns=convertNumberToArray(ans)\n",
    "print(finalAns)"
   ]
  },
  {
   "cell_type": "code",
   "execution_count": 48,
   "metadata": {},
   "outputs": [
    {
     "name": "stdout",
     "output_type": "stream",
     "text": [
      "9 7 6 1\n",
      "4 5 9\n",
      "[1, 0, 2, 2, 0]\n"
     ]
    }
   ],
   "source": [
    "# sum of 2 arrays\n",
    "\n",
    "def convertNumberToArray(number):\n",
    "    result=[]\n",
    "    while(number>0):\n",
    "        temp=int(number%10)\n",
    "        result.append(temp)\n",
    "        number=int(number/10)\n",
    "    result.reverse()\n",
    "    return result\n",
    "    \n",
    "    \n",
    "\n",
    "def convertArrayToNumber(arr,length):\n",
    "    initialAnswer=0\n",
    "    k=0\n",
    "    for i in range(length,0,-1):\n",
    "        currentAnswer=pow(10,i-1)\n",
    "        initialAnswer=initialAnswer+currentAnswer*arr[k]\n",
    "        k+=1\n",
    "    return initialAnswer\n",
    "        \n",
    "    \n",
    "    \n",
    "\n",
    "def sumOfArrays(arr1,arr2):\n",
    "    length1=len(arr1)\n",
    "    length2=len(arr2)\n",
    "    number1=convertArrayToNumber(arr1,length1)\n",
    "    number2=convertArrayToNumber(arr2,length2)\n",
    "    ans=number1+number2\n",
    "    return convertNumberToArray(ans)\n",
    "\n",
    "# main function\n",
    "arr1=[int(item) for item in input().strip().split(' ')]\n",
    "arr2=[int(item) for item in input().strip().split(' ')]\n",
    "output=sumOfArrays(arr1,arr2)\n",
    "print(output)"
   ]
  },
  {
   "cell_type": "code",
   "execution_count": null,
   "metadata": {},
   "outputs": [],
   "source": []
  }
 ],
 "metadata": {
  "kernelspec": {
   "display_name": "Python 3",
   "language": "python",
   "name": "python3"
  },
  "language_info": {
   "codemirror_mode": {
    "name": "ipython",
    "version": 3
   },
   "file_extension": ".py",
   "mimetype": "text/x-python",
   "name": "python",
   "nbconvert_exporter": "python",
   "pygments_lexer": "ipython3",
   "version": "3.7.4"
  }
 },
 "nbformat": 4,
 "nbformat_minor": 2
}
