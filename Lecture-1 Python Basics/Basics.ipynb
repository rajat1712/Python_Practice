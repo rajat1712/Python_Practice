{
 "cells": [
  {
   "cell_type": "markdown",
   "metadata": {},
   "source": [
    "Python Basics\n",
    "Lectures-\n",
    "1. Variables\n",
    "2. String Input\n",
    "3. String Slicing\n",
    "4. Tuples"
   ]
  },
  {
   "cell_type": "code",
   "execution_count": 5,
   "metadata": {},
   "outputs": [
    {
     "name": "stdout",
     "output_type": "stream",
     "text": [
      "10\n",
      "100 1\n",
      "<class 'int'>\n"
     ]
    }
   ],
   "source": [
    "# Variables in Python\n",
    "a=10\n",
    "print(a)\n",
    "print(a**2,end=\" \")\n",
    "print(a//10)\n",
    "print(type(a))\n"
   ]
  },
  {
   "cell_type": "code",
   "execution_count": 9,
   "metadata": {},
   "outputs": [
    {
     "name": "stdout",
     "output_type": "stream",
     "text": [
      "35\n",
      "Number is odd\n"
     ]
    }
   ],
   "source": [
    "# Basic if else program\n",
    "a=int(input())\n",
    "if(a%2==0):\n",
    "    print(\"Number is even\")\n",
    "else:\n",
    "    print(\"Number is odd\")"
   ]
  },
  {
   "cell_type": "code",
   "execution_count": 10,
   "metadata": {},
   "outputs": [
    {
     "name": "stdout",
     "output_type": "stream",
     "text": [
      "Enter the three numbers\n",
      "12\n",
      "23\n",
      "11\n",
      "b is greatest with value: 23\n"
     ]
    }
   ],
   "source": [
    "#  greatest in 3 digits using if else\n",
    "print(\"Enter the three numbers\")\n",
    "a=int(input())\n",
    "b=int(input())\n",
    "c=int(input())\n",
    "if(a>b and a>c):\n",
    "    print(\"a is greatest with value:\",end=\" \")\n",
    "    print(a)\n",
    "elif(b>a and b>c):\n",
    "    print(\"b is greatest with value:\",end=\" \")\n",
    "    print(b)\n",
    "else:\n",
    "    print(\"c is greatest with value:\",end=\" \")\n",
    "    print(c)"
   ]
  },
  {
   "cell_type": "code",
   "execution_count": 23,
   "metadata": {},
   "outputs": [
    {
     "name": "stdout",
     "output_type": "stream",
     "text": [
      "hi this is me!\n",
      "HI THIS IS ME!\n",
      "False\n",
      "14\n"
     ]
    }
   ],
   "source": [
    "# strings and input\n",
    "# s=input()\n",
    "# print(s)\n",
    "s_=\" abc \"\n",
    "# print(s_[0],end=\" \")\n",
    "new_str=\"Hi this is me!\"\n",
    "print(new_str.lower())\n",
    "print(new_str.upper())\n",
    "print(new_str.isalpha())\n",
    "print(len(new_str))"
   ]
  },
  {
   "cell_type": "code",
   "execution_count": 24,
   "metadata": {},
   "outputs": [
    {
     "name": "stdout",
     "output_type": "stream",
     "text": [
      "bcde\n",
      "abcd\n",
      "cdef\n",
      "abc\n"
     ]
    }
   ],
   "source": [
    "s=\"abcdef\"\n",
    "print(s[1:5])\n",
    "print(s[0:4])\n",
    "print(s[2:])\n",
    "print(s[:3])"
   ]
  },
  {
   "cell_type": "code",
   "execution_count": 32,
   "metadata": {},
   "outputs": [
    {
     "name": "stdout",
     "output_type": "stream",
     "text": [
      "hleouiahjeoaui\n",
      "10\n"
     ]
    }
   ],
   "source": [
    "# count the number of vowels in a string\n",
    "s=input()\n",
    "counta=s.count(\"a\")\n",
    "counte=s.count(\"e\")\n",
    "counti=s.count(\"i\")\n",
    "counto=s.count(\"o\")\n",
    "countu=s.count(\"u\")\n",
    "print(counta+counte+counti+counto+countu)"
   ]
  },
  {
   "cell_type": "code",
   "execution_count": 33,
   "metadata": {},
   "outputs": [
    {
     "name": "stdout",
     "output_type": "stream",
     "text": [
      "1\n",
      "abc\n",
      "23\n",
      "43.5\n"
     ]
    }
   ],
   "source": [
    "# tuples\n",
    "t=(1,\"abc\",23,43.50)\n",
    "print(t[0])\n",
    "print(t[1])\n",
    "print(t[2])\n",
    "print(t[3])"
   ]
  },
  {
   "cell_type": "code",
   "execution_count": 35,
   "metadata": {},
   "outputs": [
    {
     "name": "stdout",
     "output_type": "stream",
     "text": [
      "Enter two numbers\n",
      "12 13\n",
      "12 13 <class 'int'>\n"
     ]
    }
   ],
   "source": [
    "# shortcut for taking input\n",
    "print(\"Enter two numbers\")\n",
    "x1,x2=[int(item) for item in input().strip().split(' ')]\n",
    "print(x1,end=\" \")\n",
    "print(x2,type(x2))"
   ]
  }
 ],
 "metadata": {
  "kernelspec": {
   "display_name": "Python 3",
   "language": "python",
   "name": "python3"
  },
  "language_info": {
   "codemirror_mode": {
    "name": "ipython",
    "version": 3
   },
   "file_extension": ".py",
   "mimetype": "text/x-python",
   "name": "python",
   "nbconvert_exporter": "python",
   "pygments_lexer": "ipython3",
   "version": "3.7.4"
  }
 },
 "nbformat": 4,
 "nbformat_minor": 2
}
