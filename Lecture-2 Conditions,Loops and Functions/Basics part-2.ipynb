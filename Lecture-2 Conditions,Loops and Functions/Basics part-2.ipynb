{
 "cells": [
  {
   "cell_type": "markdown",
   "metadata": {},
   "source": [
    "Loops\n",
    "Conditionals\n",
    "Functions"
   ]
  },
  {
   "cell_type": "code",
   "execution_count": 7,
   "metadata": {},
   "outputs": [
    {
     "name": "stdout",
     "output_type": "stream",
     "text": [
      "#\n",
      "-1\n"
     ]
    }
   ],
   "source": [
    "# practising questions \n",
    "# Q-1\n",
    "a=input()\n",
    "asc=ord(a)   # gives the ascii value\n",
    "if(asc>=65 and asc<=90):\n",
    "    print(1)\n",
    "elif(asc>=97 and asc<=120):\n",
    "    print(0)\n",
    "else:\n",
    "    print(-1)"
   ]
  },
  {
   "cell_type": "code",
   "execution_count": 11,
   "metadata": {},
   "outputs": [
    {
     "name": "stdout",
     "output_type": "stream",
     "text": [
      "0\n",
      "The sum of numbers from 1 to N is:  0\n"
     ]
    }
   ],
   "source": [
    "# Q-2\n",
    "# function\n",
    "def sum(x):\n",
    "    answer=0\n",
    "    for i in range(1,x+1):\n",
    "        if(i%2==0):\n",
    "            answer=answer+i\n",
    "    return answer\n",
    "\n",
    "    \n",
    "# main function\n",
    "x=int(input())\n",
    "answer=sum(x)\n",
    "print(\"The sum of numbers from 1 to N is: \",answer)"
   ]
  },
  {
   "cell_type": "code",
   "execution_count": 18,
   "metadata": {},
   "outputs": [
    {
     "name": "stdout",
     "output_type": "stream",
     "text": [
      "0 100 20\n",
      "0 -17\n",
      "20 -6\n",
      "40 4\n",
      "60 15\n",
      "80 26\n",
      "100 37\n"
     ]
    }
   ],
   "source": [
    "#start=int(input())\n",
    "#end=int(input())\n",
    "#stepSize=int(input())\n",
    "start,end,stepSize=[int(item) for item in input().strip().split(' ')]\n",
    "while(start<=end):\n",
    "    fah=(start-32)*(5/9)\n",
    "    print(start,end=\" \")\n",
    "    print(int(fah))\n",
    "    start=start+stepSize\n"
   ]
  },
  {
   "cell_type": "code",
   "execution_count": 1,
   "metadata": {},
   "outputs": [
    {
     "name": "stdout",
     "output_type": "stream",
     "text": [
      "1 2 3 4 5\n",
      "<class 'list'>\n"
     ]
    }
   ],
   "source": [
    "l=[int(item) for item in input().strip().split(\" \")]\n",
    "print(type(l))"
   ]
  },
  {
   "cell_type": "code",
   "execution_count": 37,
   "metadata": {},
   "outputs": [
    {
     "name": "stdout",
     "output_type": "stream",
     "text": [
      "123456\n",
      "12 9\n"
     ]
    }
   ],
   "source": [
    "n=input()\n",
    "new_list=list(n)\n",
    "for i in range(0,len(new_list)):\n",
    "    new_list[i]=int(new_list[i])\n",
    "\n",
    "evenSum=0\n",
    "oddSum=0\n",
    "for j in range(0,len(new_list)):\n",
    "    if(new_list[j] %2 ==0):\n",
    "        evenSum=evenSum+new_list[j]\n",
    "    else:\n",
    "        oddSum=oddSum+new_list[j]\n",
    "print(evenSum,end=\" \")\n",
    "print(oddSum)"
   ]
  },
  {
   "cell_type": "code",
   "execution_count": null,
   "metadata": {},
   "outputs": [],
   "source": []
  }
 ],
 "metadata": {
  "kernelspec": {
   "display_name": "Python 3",
   "language": "python",
   "name": "python3"
  },
  "language_info": {
   "codemirror_mode": {
    "name": "ipython",
    "version": 3
   },
   "file_extension": ".py",
   "mimetype": "text/x-python",
   "name": "python",
   "nbconvert_exporter": "python",
   "pygments_lexer": "ipython3",
   "version": "3.7.4"
  }
 },
 "nbformat": 4,
 "nbformat_minor": 2
}
